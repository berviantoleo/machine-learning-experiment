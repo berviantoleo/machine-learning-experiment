{
  "nbformat": 4,
  "nbformat_minor": 0,
  "metadata": {
    "colab": {
      "name": "Submission 2 - Time Series.ipynb",
      "provenance": [],
      "authorship_tag": "ABX9TyMoJsSqjCdFNJgIpk2OOe7m",
      "include_colab_link": true
    },
    "kernelspec": {
      "name": "python3",
      "display_name": "Python 3"
    }
  },
  "cells": [
    {
      "cell_type": "markdown",
      "metadata": {
        "id": "view-in-github",
        "colab_type": "text"
      },
      "source": [
        "<a href=\"https://colab.research.google.com/github/berviantoleo/machine-learning-experiment/blob/master/Submission_2_Time_Series.ipynb\" target=\"_parent\"><img src=\"https://colab.research.google.com/assets/colab-badge.svg\" alt=\"Open In Colab\"/></a>"
      ]
    },
    {
      "cell_type": "code",
      "metadata": {
        "id": "lYui4wBxCggo",
        "colab_type": "code",
        "colab": {}
      },
      "source": [
        "import numpy as np\n",
        "import pandas as pd\n",
        "from keras.layers import Dense, LSTM\n",
        "import matplotlib.pyplot as plt\n",
        "import tensorflow as tf\n",
        "from sklearn.preprocessing import MinMaxScaler"
      ],
      "execution_count": null,
      "outputs": []
    },
    {
      "cell_type": "code",
      "metadata": {
        "id": "T-GQB63qC0iE",
        "colab_type": "code",
        "colab": {
          "base_uri": "https://localhost:8080/",
          "height": 617
        },
        "outputId": "a6e80e66-5bc7-431e-bb57-aa010995d9e5"
      },
      "source": [
        "data_train = pd.read_csv('https://archive.ics.uci.edu/ml/machine-learning-databases/00374/energydata_complete.csv')\n",
        "data_train"
      ],
      "execution_count": null,
      "outputs": [
        {
          "output_type": "execute_result",
          "data": {
            "text/html": [
              "<div>\n",
              "<style scoped>\n",
              "    .dataframe tbody tr th:only-of-type {\n",
              "        vertical-align: middle;\n",
              "    }\n",
              "\n",
              "    .dataframe tbody tr th {\n",
              "        vertical-align: top;\n",
              "    }\n",
              "\n",
              "    .dataframe thead th {\n",
              "        text-align: right;\n",
              "    }\n",
              "</style>\n",
              "<table border=\"1\" class=\"dataframe\">\n",
              "  <thead>\n",
              "    <tr style=\"text-align: right;\">\n",
              "      <th></th>\n",
              "      <th>date</th>\n",
              "      <th>Appliances</th>\n",
              "      <th>lights</th>\n",
              "      <th>T1</th>\n",
              "      <th>RH_1</th>\n",
              "      <th>T2</th>\n",
              "      <th>RH_2</th>\n",
              "      <th>T3</th>\n",
              "      <th>RH_3</th>\n",
              "      <th>T4</th>\n",
              "      <th>RH_4</th>\n",
              "      <th>T5</th>\n",
              "      <th>RH_5</th>\n",
              "      <th>T6</th>\n",
              "      <th>RH_6</th>\n",
              "      <th>T7</th>\n",
              "      <th>RH_7</th>\n",
              "      <th>T8</th>\n",
              "      <th>RH_8</th>\n",
              "      <th>T9</th>\n",
              "      <th>RH_9</th>\n",
              "      <th>T_out</th>\n",
              "      <th>Press_mm_hg</th>\n",
              "      <th>RH_out</th>\n",
              "      <th>Windspeed</th>\n",
              "      <th>Visibility</th>\n",
              "      <th>Tdewpoint</th>\n",
              "      <th>rv1</th>\n",
              "      <th>rv2</th>\n",
              "    </tr>\n",
              "  </thead>\n",
              "  <tbody>\n",
              "    <tr>\n",
              "      <th>0</th>\n",
              "      <td>2016-01-11 17:00:00</td>\n",
              "      <td>60</td>\n",
              "      <td>30</td>\n",
              "      <td>19.890000</td>\n",
              "      <td>47.596667</td>\n",
              "      <td>19.200000</td>\n",
              "      <td>44.790000</td>\n",
              "      <td>19.790000</td>\n",
              "      <td>44.730000</td>\n",
              "      <td>19.000000</td>\n",
              "      <td>45.566667</td>\n",
              "      <td>17.166667</td>\n",
              "      <td>55.200000</td>\n",
              "      <td>7.026667</td>\n",
              "      <td>84.256667</td>\n",
              "      <td>17.200000</td>\n",
              "      <td>41.626667</td>\n",
              "      <td>18.2000</td>\n",
              "      <td>48.900000</td>\n",
              "      <td>17.033333</td>\n",
              "      <td>45.5300</td>\n",
              "      <td>6.600000</td>\n",
              "      <td>733.5</td>\n",
              "      <td>92.000000</td>\n",
              "      <td>7.000000</td>\n",
              "      <td>63.000000</td>\n",
              "      <td>5.300000</td>\n",
              "      <td>13.275433</td>\n",
              "      <td>13.275433</td>\n",
              "    </tr>\n",
              "    <tr>\n",
              "      <th>1</th>\n",
              "      <td>2016-01-11 17:10:00</td>\n",
              "      <td>60</td>\n",
              "      <td>30</td>\n",
              "      <td>19.890000</td>\n",
              "      <td>46.693333</td>\n",
              "      <td>19.200000</td>\n",
              "      <td>44.722500</td>\n",
              "      <td>19.790000</td>\n",
              "      <td>44.790000</td>\n",
              "      <td>19.000000</td>\n",
              "      <td>45.992500</td>\n",
              "      <td>17.166667</td>\n",
              "      <td>55.200000</td>\n",
              "      <td>6.833333</td>\n",
              "      <td>84.063333</td>\n",
              "      <td>17.200000</td>\n",
              "      <td>41.560000</td>\n",
              "      <td>18.2000</td>\n",
              "      <td>48.863333</td>\n",
              "      <td>17.066667</td>\n",
              "      <td>45.5600</td>\n",
              "      <td>6.483333</td>\n",
              "      <td>733.6</td>\n",
              "      <td>92.000000</td>\n",
              "      <td>6.666667</td>\n",
              "      <td>59.166667</td>\n",
              "      <td>5.200000</td>\n",
              "      <td>18.606195</td>\n",
              "      <td>18.606195</td>\n",
              "    </tr>\n",
              "    <tr>\n",
              "      <th>2</th>\n",
              "      <td>2016-01-11 17:20:00</td>\n",
              "      <td>50</td>\n",
              "      <td>30</td>\n",
              "      <td>19.890000</td>\n",
              "      <td>46.300000</td>\n",
              "      <td>19.200000</td>\n",
              "      <td>44.626667</td>\n",
              "      <td>19.790000</td>\n",
              "      <td>44.933333</td>\n",
              "      <td>18.926667</td>\n",
              "      <td>45.890000</td>\n",
              "      <td>17.166667</td>\n",
              "      <td>55.090000</td>\n",
              "      <td>6.560000</td>\n",
              "      <td>83.156667</td>\n",
              "      <td>17.200000</td>\n",
              "      <td>41.433333</td>\n",
              "      <td>18.2000</td>\n",
              "      <td>48.730000</td>\n",
              "      <td>17.000000</td>\n",
              "      <td>45.5000</td>\n",
              "      <td>6.366667</td>\n",
              "      <td>733.7</td>\n",
              "      <td>92.000000</td>\n",
              "      <td>6.333333</td>\n",
              "      <td>55.333333</td>\n",
              "      <td>5.100000</td>\n",
              "      <td>28.642668</td>\n",
              "      <td>28.642668</td>\n",
              "    </tr>\n",
              "    <tr>\n",
              "      <th>3</th>\n",
              "      <td>2016-01-11 17:30:00</td>\n",
              "      <td>50</td>\n",
              "      <td>40</td>\n",
              "      <td>19.890000</td>\n",
              "      <td>46.066667</td>\n",
              "      <td>19.200000</td>\n",
              "      <td>44.590000</td>\n",
              "      <td>19.790000</td>\n",
              "      <td>45.000000</td>\n",
              "      <td>18.890000</td>\n",
              "      <td>45.723333</td>\n",
              "      <td>17.166667</td>\n",
              "      <td>55.090000</td>\n",
              "      <td>6.433333</td>\n",
              "      <td>83.423333</td>\n",
              "      <td>17.133333</td>\n",
              "      <td>41.290000</td>\n",
              "      <td>18.1000</td>\n",
              "      <td>48.590000</td>\n",
              "      <td>17.000000</td>\n",
              "      <td>45.4000</td>\n",
              "      <td>6.250000</td>\n",
              "      <td>733.8</td>\n",
              "      <td>92.000000</td>\n",
              "      <td>6.000000</td>\n",
              "      <td>51.500000</td>\n",
              "      <td>5.000000</td>\n",
              "      <td>45.410389</td>\n",
              "      <td>45.410389</td>\n",
              "    </tr>\n",
              "    <tr>\n",
              "      <th>4</th>\n",
              "      <td>2016-01-11 17:40:00</td>\n",
              "      <td>60</td>\n",
              "      <td>40</td>\n",
              "      <td>19.890000</td>\n",
              "      <td>46.333333</td>\n",
              "      <td>19.200000</td>\n",
              "      <td>44.530000</td>\n",
              "      <td>19.790000</td>\n",
              "      <td>45.000000</td>\n",
              "      <td>18.890000</td>\n",
              "      <td>45.530000</td>\n",
              "      <td>17.200000</td>\n",
              "      <td>55.090000</td>\n",
              "      <td>6.366667</td>\n",
              "      <td>84.893333</td>\n",
              "      <td>17.200000</td>\n",
              "      <td>41.230000</td>\n",
              "      <td>18.1000</td>\n",
              "      <td>48.590000</td>\n",
              "      <td>17.000000</td>\n",
              "      <td>45.4000</td>\n",
              "      <td>6.133333</td>\n",
              "      <td>733.9</td>\n",
              "      <td>92.000000</td>\n",
              "      <td>5.666667</td>\n",
              "      <td>47.666667</td>\n",
              "      <td>4.900000</td>\n",
              "      <td>10.084097</td>\n",
              "      <td>10.084097</td>\n",
              "    </tr>\n",
              "    <tr>\n",
              "      <th>...</th>\n",
              "      <td>...</td>\n",
              "      <td>...</td>\n",
              "      <td>...</td>\n",
              "      <td>...</td>\n",
              "      <td>...</td>\n",
              "      <td>...</td>\n",
              "      <td>...</td>\n",
              "      <td>...</td>\n",
              "      <td>...</td>\n",
              "      <td>...</td>\n",
              "      <td>...</td>\n",
              "      <td>...</td>\n",
              "      <td>...</td>\n",
              "      <td>...</td>\n",
              "      <td>...</td>\n",
              "      <td>...</td>\n",
              "      <td>...</td>\n",
              "      <td>...</td>\n",
              "      <td>...</td>\n",
              "      <td>...</td>\n",
              "      <td>...</td>\n",
              "      <td>...</td>\n",
              "      <td>...</td>\n",
              "      <td>...</td>\n",
              "      <td>...</td>\n",
              "      <td>...</td>\n",
              "      <td>...</td>\n",
              "      <td>...</td>\n",
              "      <td>...</td>\n",
              "    </tr>\n",
              "    <tr>\n",
              "      <th>19730</th>\n",
              "      <td>2016-05-27 17:20:00</td>\n",
              "      <td>100</td>\n",
              "      <td>0</td>\n",
              "      <td>25.566667</td>\n",
              "      <td>46.560000</td>\n",
              "      <td>25.890000</td>\n",
              "      <td>42.025714</td>\n",
              "      <td>27.200000</td>\n",
              "      <td>41.163333</td>\n",
              "      <td>24.700000</td>\n",
              "      <td>45.590000</td>\n",
              "      <td>23.200000</td>\n",
              "      <td>52.400000</td>\n",
              "      <td>24.796667</td>\n",
              "      <td>1.000000</td>\n",
              "      <td>24.500000</td>\n",
              "      <td>44.500000</td>\n",
              "      <td>24.7000</td>\n",
              "      <td>50.074000</td>\n",
              "      <td>23.200000</td>\n",
              "      <td>46.7900</td>\n",
              "      <td>22.733333</td>\n",
              "      <td>755.2</td>\n",
              "      <td>55.666667</td>\n",
              "      <td>3.333333</td>\n",
              "      <td>23.666667</td>\n",
              "      <td>13.333333</td>\n",
              "      <td>43.096812</td>\n",
              "      <td>43.096812</td>\n",
              "    </tr>\n",
              "    <tr>\n",
              "      <th>19731</th>\n",
              "      <td>2016-05-27 17:30:00</td>\n",
              "      <td>90</td>\n",
              "      <td>0</td>\n",
              "      <td>25.500000</td>\n",
              "      <td>46.500000</td>\n",
              "      <td>25.754000</td>\n",
              "      <td>42.080000</td>\n",
              "      <td>27.133333</td>\n",
              "      <td>41.223333</td>\n",
              "      <td>24.700000</td>\n",
              "      <td>45.590000</td>\n",
              "      <td>23.230000</td>\n",
              "      <td>52.326667</td>\n",
              "      <td>24.196667</td>\n",
              "      <td>1.000000</td>\n",
              "      <td>24.557143</td>\n",
              "      <td>44.414286</td>\n",
              "      <td>24.7000</td>\n",
              "      <td>49.790000</td>\n",
              "      <td>23.200000</td>\n",
              "      <td>46.7900</td>\n",
              "      <td>22.600000</td>\n",
              "      <td>755.2</td>\n",
              "      <td>56.000000</td>\n",
              "      <td>3.500000</td>\n",
              "      <td>24.500000</td>\n",
              "      <td>13.300000</td>\n",
              "      <td>49.282940</td>\n",
              "      <td>49.282940</td>\n",
              "    </tr>\n",
              "    <tr>\n",
              "      <th>19732</th>\n",
              "      <td>2016-05-27 17:40:00</td>\n",
              "      <td>270</td>\n",
              "      <td>10</td>\n",
              "      <td>25.500000</td>\n",
              "      <td>46.596667</td>\n",
              "      <td>25.628571</td>\n",
              "      <td>42.768571</td>\n",
              "      <td>27.050000</td>\n",
              "      <td>41.690000</td>\n",
              "      <td>24.700000</td>\n",
              "      <td>45.730000</td>\n",
              "      <td>23.230000</td>\n",
              "      <td>52.266667</td>\n",
              "      <td>23.626667</td>\n",
              "      <td>1.000000</td>\n",
              "      <td>24.540000</td>\n",
              "      <td>44.400000</td>\n",
              "      <td>24.7000</td>\n",
              "      <td>49.660000</td>\n",
              "      <td>23.200000</td>\n",
              "      <td>46.7900</td>\n",
              "      <td>22.466667</td>\n",
              "      <td>755.2</td>\n",
              "      <td>56.333333</td>\n",
              "      <td>3.666667</td>\n",
              "      <td>25.333333</td>\n",
              "      <td>13.266667</td>\n",
              "      <td>29.199117</td>\n",
              "      <td>29.199117</td>\n",
              "    </tr>\n",
              "    <tr>\n",
              "      <th>19733</th>\n",
              "      <td>2016-05-27 17:50:00</td>\n",
              "      <td>420</td>\n",
              "      <td>10</td>\n",
              "      <td>25.500000</td>\n",
              "      <td>46.990000</td>\n",
              "      <td>25.414000</td>\n",
              "      <td>43.036000</td>\n",
              "      <td>26.890000</td>\n",
              "      <td>41.290000</td>\n",
              "      <td>24.700000</td>\n",
              "      <td>45.790000</td>\n",
              "      <td>23.200000</td>\n",
              "      <td>52.200000</td>\n",
              "      <td>22.433333</td>\n",
              "      <td>1.000000</td>\n",
              "      <td>24.500000</td>\n",
              "      <td>44.295714</td>\n",
              "      <td>24.6625</td>\n",
              "      <td>49.518750</td>\n",
              "      <td>23.200000</td>\n",
              "      <td>46.8175</td>\n",
              "      <td>22.333333</td>\n",
              "      <td>755.2</td>\n",
              "      <td>56.666667</td>\n",
              "      <td>3.833333</td>\n",
              "      <td>26.166667</td>\n",
              "      <td>13.233333</td>\n",
              "      <td>6.322784</td>\n",
              "      <td>6.322784</td>\n",
              "    </tr>\n",
              "    <tr>\n",
              "      <th>19734</th>\n",
              "      <td>2016-05-27 18:00:00</td>\n",
              "      <td>430</td>\n",
              "      <td>10</td>\n",
              "      <td>25.500000</td>\n",
              "      <td>46.600000</td>\n",
              "      <td>25.264286</td>\n",
              "      <td>42.971429</td>\n",
              "      <td>26.823333</td>\n",
              "      <td>41.156667</td>\n",
              "      <td>24.700000</td>\n",
              "      <td>45.963333</td>\n",
              "      <td>23.200000</td>\n",
              "      <td>52.200000</td>\n",
              "      <td>21.026667</td>\n",
              "      <td>1.000000</td>\n",
              "      <td>24.500000</td>\n",
              "      <td>44.054000</td>\n",
              "      <td>24.7360</td>\n",
              "      <td>49.736000</td>\n",
              "      <td>23.200000</td>\n",
              "      <td>46.8450</td>\n",
              "      <td>22.200000</td>\n",
              "      <td>755.2</td>\n",
              "      <td>57.000000</td>\n",
              "      <td>4.000000</td>\n",
              "      <td>27.000000</td>\n",
              "      <td>13.200000</td>\n",
              "      <td>34.118851</td>\n",
              "      <td>34.118851</td>\n",
              "    </tr>\n",
              "  </tbody>\n",
              "</table>\n",
              "<p>19735 rows × 29 columns</p>\n",
              "</div>"
            ],
            "text/plain": [
              "                      date  Appliances  lights  ...  Tdewpoint        rv1        rv2\n",
              "0      2016-01-11 17:00:00          60      30  ...   5.300000  13.275433  13.275433\n",
              "1      2016-01-11 17:10:00          60      30  ...   5.200000  18.606195  18.606195\n",
              "2      2016-01-11 17:20:00          50      30  ...   5.100000  28.642668  28.642668\n",
              "3      2016-01-11 17:30:00          50      40  ...   5.000000  45.410389  45.410389\n",
              "4      2016-01-11 17:40:00          60      40  ...   4.900000  10.084097  10.084097\n",
              "...                    ...         ...     ...  ...        ...        ...        ...\n",
              "19730  2016-05-27 17:20:00         100       0  ...  13.333333  43.096812  43.096812\n",
              "19731  2016-05-27 17:30:00          90       0  ...  13.300000  49.282940  49.282940\n",
              "19732  2016-05-27 17:40:00         270      10  ...  13.266667  29.199117  29.199117\n",
              "19733  2016-05-27 17:50:00         420      10  ...  13.233333   6.322784   6.322784\n",
              "19734  2016-05-27 18:00:00         430      10  ...  13.200000  34.118851  34.118851\n",
              "\n",
              "[19735 rows x 29 columns]"
            ]
          },
          "metadata": {
            "tags": []
          },
          "execution_count": 2
        }
      ]
    },
    {
      "cell_type": "code",
      "metadata": {
        "id": "RbsCppbFDQVp",
        "colab_type": "code",
        "colab": {
          "base_uri": "https://localhost:8080/",
          "height": 568
        },
        "outputId": "f0c7837a-61c3-464f-e42c-2f2940bb26f0"
      },
      "source": [
        "data_train.isnull().sum()"
      ],
      "execution_count": null,
      "outputs": [
        {
          "output_type": "execute_result",
          "data": {
            "text/plain": [
              "date           0\n",
              "Appliances     0\n",
              "lights         0\n",
              "T1             0\n",
              "RH_1           0\n",
              "T2             0\n",
              "RH_2           0\n",
              "T3             0\n",
              "RH_3           0\n",
              "T4             0\n",
              "RH_4           0\n",
              "T5             0\n",
              "RH_5           0\n",
              "T6             0\n",
              "RH_6           0\n",
              "T7             0\n",
              "RH_7           0\n",
              "T8             0\n",
              "RH_8           0\n",
              "T9             0\n",
              "RH_9           0\n",
              "T_out          0\n",
              "Press_mm_hg    0\n",
              "RH_out         0\n",
              "Windspeed      0\n",
              "Visibility     0\n",
              "Tdewpoint      0\n",
              "rv1            0\n",
              "rv2            0\n",
              "dtype: int64"
            ]
          },
          "metadata": {
            "tags": []
          },
          "execution_count": 3
        }
      ]
    },
    {
      "cell_type": "code",
      "metadata": {
        "id": "ZrUlMHteDU4X",
        "colab_type": "code",
        "colab": {
          "base_uri": "https://localhost:8080/",
          "height": 317
        },
        "outputId": "cb1fc9ff-01df-42b8-8b8c-e4a1a59e97dd"
      },
      "source": [
        "dates = data_train['date'].values\n",
        "energy  = data_train['Appliances'].values\n",
        "     \n",
        "plt.figure(figsize=(15,5))\n",
        "plt.plot(dates, energy)\n",
        "plt.title('Energy Used',\n",
        "              fontsize=20);"
      ],
      "execution_count": null,
      "outputs": [
        {
          "output_type": "display_data",
          "data": {
            "image/png": "[encoded data removed]",
            "text/plain": [
              "<Figure size 1080x360 with 1 Axes>"
            ]
          },
          "metadata": {
            "tags": [],
            "needs_background": "light"
          }
        }
      ]
    },
    {
      "cell_type": "code",
      "metadata": {
        "id": "y_v2A5bNuhbp",
        "colab_type": "code",
        "colab": {
          "base_uri": "https://localhost:8080/",
          "height": 35
        },
        "outputId": "6c7106b1-4065-4dca-9a58-774eed7efc23"
      },
      "source": [
        "# preproccess - normalize\n",
        "# scaler = MinMaxScaler(feature_range=(0, 1))\n",
        "# energy_normalize = scaler.fit_transform(energy.reshape(1,-1))\n",
        "# energy_norm = energy_normalize[0]\n",
        "# energy_norm\n",
        "\n",
        "train_size = int(len(energy) * 0.8)\n",
        "test_size = len(energy) - train_size\n",
        "train, test = energy[0:train_size], energy[train_size:len(energy)]\n",
        "print(len(train),len(test))"
      ],
      "execution_count": null,
      "outputs": [
        {
          "output_type": "stream",
          "text": [
            "15788 3947\n"
          ],
          "name": "stdout"
        }
      ]
    },
    {
      "cell_type": "code",
      "metadata": {
        "id": "Q5iALLHHLf3R",
        "colab_type": "code",
        "colab": {
          "base_uri": "https://localhost:8080/",
          "height": 54
        },
        "outputId": "5f4e0617-4aa0-4c76-a349-460fed5dff30"
      },
      "source": [
        "minimum = min(train)\n",
        "maximum = max(train)\n",
        "print(minimum,maximum)\n",
        "lower_mae = (maximum - minimum) / 10\n",
        "print(lower_mae)"
      ],
      "execution_count": null,
      "outputs": [
        {
          "output_type": "stream",
          "text": [
            "10 1080\n",
            "107.0\n"
          ],
          "name": "stdout"
        }
      ]
    },
    {
      "cell_type": "code",
      "metadata": {
        "id": "pxt5E2gODeG8",
        "colab_type": "code",
        "colab": {}
      },
      "source": [
        "def windowed_dataset(series, window_size, batch_size, shuffle_buffer):\n",
        "    series = tf.expand_dims(series, axis=-1)\n",
        "    ds = tf.data.Dataset.from_tensor_slices(series)\n",
        "    ds = ds.window(window_size + 1, shift=1, drop_remainder=True)\n",
        "    ds = ds.flat_map(lambda w: w.batch(window_size + 1))\n",
        "    ds = ds.shuffle(shuffle_buffer)\n",
        "    ds = ds.map(lambda w: (w[:-1], w[1:]))\n",
        "    return ds.batch(batch_size).prefetch(1)"
      ],
      "execution_count": null,
      "outputs": []
    },
    {
      "cell_type": "code",
      "metadata": {
        "id": "QbVCR43KDnYB",
        "colab_type": "code",
        "colab": {
          "base_uri": "https://localhost:8080/",
          "height": 35
        },
        "outputId": "14b40b46-fde9-4c98-f408-b19f7ee3fa3c"
      },
      "source": [
        "train_set = windowed_dataset(train.astype('float32'), window_size=60, batch_size=100, shuffle_buffer=1000)\n",
        "train_set"
      ],
      "execution_count": null,
      "outputs": [
        {
          "output_type": "execute_result",
          "data": {
            "text/plain": [
              "<PrefetchDataset shapes: ((None, None, 1), (None, None, 1)), types: (tf.float32, tf.float32)>"
            ]
          },
          "metadata": {
            "tags": []
          },
          "execution_count": 8
        }
      ]
    },
    {
      "cell_type": "code",
      "metadata": {
        "id": "Z4ppA3jcH87e",
        "colab_type": "code",
        "colab": {
          "base_uri": "https://localhost:8080/",
          "height": 35
        },
        "outputId": "3334b073-2d72-478b-b5a4-163a73d99b03"
      },
      "source": [
        "val_set = windowed_dataset(test.astype('float32'), window_size=60, batch_size=100, shuffle_buffer=1000)\n",
        "val_set"
      ],
      "execution_count": null,
      "outputs": [
        {
          "output_type": "execute_result",
          "data": {
            "text/plain": [
              "<PrefetchDataset shapes: ((None, None, 1), (None, None, 1)), types: (tf.float32, tf.float32)>"
            ]
          },
          "metadata": {
            "tags": []
          },
          "execution_count": 9
        }
      ]
    },
    {
      "cell_type": "code",
      "metadata": {
        "id": "hV6lCT3E6-Gf",
        "colab_type": "code",
        "colab": {}
      },
      "source": [
        "model = tf.keras.models.Sequential([\n",
        "  tf.keras.layers.LSTM(60, return_sequences=True),\n",
        "  tf.keras.layers.LSTM(60),\n",
        "  tf.keras.layers.Dense(30, activation=\"relu\"),\n",
        "  tf.keras.layers.Dense(10, activation=\"relu\"),\n",
        "  tf.keras.layers.Dense(1),\n",
        "])"
      ],
      "execution_count": null,
      "outputs": []
    },
    {
      "cell_type": "code",
      "metadata": {
        "id": "k3775ocgGcRx",
        "colab_type": "code",
        "colab": {}
      },
      "source": [
        "class myCallback(tf.keras.callbacks.Callback):\n",
        "    def on_epoch_end(self, epoch, logs={}):\n",
        "      if(logs.get('mae') < 45.0):\n",
        "        print(\"\\nmae sudah kurang dari 44.5!\")\n",
        "        self.model.stop_training = True\n",
        "callbacks = myCallback()"
      ],
      "execution_count": null,
      "outputs": []
    },
    {
      "cell_type": "code",
      "metadata": {
        "id": "TqXEW_RcDzzw",
        "colab_type": "code",
        "colab": {
          "base_uri": "https://localhost:8080/",
          "height": 1000
        },
        "outputId": "d9989aaa-e5da-49c7-d259-c4da3f1a0e7f"
      },
      "source": [
        "optimizer = tf.keras.optimizers.SGD(lr=1.0000e-04, momentum=0.9)\n",
        "\n",
        "model.compile(loss=tf.keras.losses.Huber(),\n",
        "              optimizer=optimizer,\n",
        "              metrics=[\"mae\"])\n",
        "history = model.fit(train_set, callbacks=[callbacks], validation_data=val_set, epochs=100)"
      ],
      "execution_count": null,
      "outputs": [
        {
          "output_type": "stream",
          "text": [
            "Epoch 1/100\n",
            "158/158 [==============================] - 17s 108ms/step - loss: 95.4635 - mae: 95.9635 - val_loss: 88.1574 - val_mae: 88.6574\n",
            "Epoch 2/100\n",
            "158/158 [==============================] - 17s 105ms/step - loss: 70.1660 - mae: 70.6648 - val_loss: 40.9217 - val_mae: 41.4217\n",
            "Epoch 3/100\n",
            "158/158 [==============================] - 17s 105ms/step - loss: 51.1972 - mae: 51.6876 - val_loss: 40.5455 - val_mae: 41.0359\n",
            "Epoch 4/100\n",
            "158/158 [==============================] - 17s 105ms/step - loss: 50.6020 - mae: 51.0896 - val_loss: 39.8121 - val_mae: 40.3027\n",
            "Epoch 5/100\n",
            "158/158 [==============================] - 17s 105ms/step - loss: 48.3639 - mae: 48.8574 - val_loss: 36.3914 - val_mae: 36.8820\n",
            "Epoch 6/100\n",
            "158/158 [==============================] - 17s 106ms/step - loss: 45.6507 - mae: 46.1430 - val_loss: 35.9454 - val_mae: 36.4389\n",
            "Epoch 7/100\n",
            "158/158 [==============================] - 17s 106ms/step - loss: 45.2431 - mae: 45.7352 - val_loss: 36.3083 - val_mae: 36.8022\n",
            "Epoch 8/100\n",
            "158/158 [==============================] - 17s 107ms/step - loss: 45.1212 - mae: 45.6130 - val_loss: 35.6166 - val_mae: 36.1104\n",
            "Epoch 9/100\n",
            "158/158 [==============================] - 17s 106ms/step - loss: 44.9600 - mae: 45.4516 - val_loss: 35.6938 - val_mae: 36.1869\n",
            "Epoch 10/100\n",
            "158/158 [==============================] - 17s 106ms/step - loss: 45.0272 - mae: 45.5187 - val_loss: 35.7315 - val_mae: 36.2249\n",
            "Epoch 11/100\n",
            "158/158 [==============================] - 17s 106ms/step - loss: 44.9824 - mae: 45.4742 - val_loss: 35.5489 - val_mae: 36.0425\n",
            "Epoch 12/100\n",
            "158/158 [==============================] - 17s 106ms/step - loss: 44.9508 - mae: 45.4429 - val_loss: 35.6388 - val_mae: 36.1310\n",
            "Epoch 13/100\n",
            "158/158 [==============================] - 17s 106ms/step - loss: 44.8975 - mae: 45.3897 - val_loss: 35.5144 - val_mae: 36.0077\n",
            "Epoch 14/100\n",
            "158/158 [==============================] - 17s 106ms/step - loss: 44.9282 - mae: 45.4207 - val_loss: 35.9631 - val_mae: 36.4558\n",
            "Epoch 15/100\n",
            "158/158 [==============================] - 17s 106ms/step - loss: 44.8684 - mae: 45.3606 - val_loss: 35.6648 - val_mae: 36.1584\n",
            "Epoch 16/100\n",
            "158/158 [==============================] - 17s 106ms/step - loss: 44.8814 - mae: 45.3733 - val_loss: 35.3931 - val_mae: 35.8874\n",
            "Epoch 17/100\n",
            "158/158 [==============================] - 17s 106ms/step - loss: 44.8368 - mae: 45.3283 - val_loss: 35.4919 - val_mae: 35.9858\n",
            "Epoch 18/100\n",
            "158/158 [==============================] - 17s 106ms/step - loss: 44.9465 - mae: 45.4389 - val_loss: 35.9783 - val_mae: 36.4728\n",
            "Epoch 19/100\n",
            "158/158 [==============================] - 17s 106ms/step - loss: 44.9154 - mae: 45.4072 - val_loss: 35.4851 - val_mae: 35.9781\n",
            "Epoch 20/100\n",
            "158/158 [==============================] - 17s 106ms/step - loss: 44.8462 - mae: 45.3377 - val_loss: 35.6159 - val_mae: 36.1078\n",
            "Epoch 21/100\n",
            "158/158 [==============================] - 17s 106ms/step - loss: 44.9095 - mae: 45.4007 - val_loss: 35.3714 - val_mae: 35.8653\n",
            "Epoch 22/100\n",
            "158/158 [==============================] - 17s 106ms/step - loss: 44.9039 - mae: 45.3958 - val_loss: 35.3295 - val_mae: 35.8238\n",
            "Epoch 23/100\n",
            "158/158 [==============================] - 17s 106ms/step - loss: 44.8873 - mae: 45.3796 - val_loss: 35.4691 - val_mae: 35.9632\n",
            "Epoch 24/100\n",
            "158/158 [==============================] - 17s 107ms/step - loss: 44.8682 - mae: 45.3603 - val_loss: 36.1425 - val_mae: 36.6355\n",
            "Epoch 25/100\n",
            "158/158 [==============================] - 17s 109ms/step - loss: 44.7279 - mae: 45.2199 - val_loss: 35.2957 - val_mae: 35.7880\n",
            "Epoch 26/100\n",
            "158/158 [==============================] - 20s 129ms/step - loss: 44.6203 - mae: 45.1118 - val_loss: 35.4243 - val_mae: 35.9168\n",
            "Epoch 27/100\n",
            "158/158 [==============================] - 17s 106ms/step - loss: 44.5876 - mae: 45.0792 - val_loss: 35.1981 - val_mae: 35.6915\n",
            "Epoch 28/100\n",
            "158/158 [==============================] - 17s 106ms/step - loss: 44.6156 - mae: 45.1076 - val_loss: 35.3007 - val_mae: 35.7934\n",
            "Epoch 29/100\n",
            "158/158 [==============================] - 17s 107ms/step - loss: 44.9091 - mae: 45.4011 - val_loss: 35.5933 - val_mae: 36.0864\n",
            "Epoch 30/100\n",
            "158/158 [==============================] - 17s 106ms/step - loss: 44.8836 - mae: 45.3756 - val_loss: 35.4741 - val_mae: 35.9675\n",
            "Epoch 31/100\n",
            "158/158 [==============================] - 17s 106ms/step - loss: 44.8865 - mae: 45.3781 - val_loss: 35.2726 - val_mae: 35.7666\n",
            "Epoch 32/100\n",
            "158/158 [==============================] - 17s 106ms/step - loss: 44.6925 - mae: 45.1845 - val_loss: 35.1510 - val_mae: 35.6433\n",
            "Epoch 33/100\n",
            "158/158 [==============================] - 17s 106ms/step - loss: 45.0063 - mae: 45.4984 - val_loss: 36.1530 - val_mae: 36.6473\n",
            "Epoch 34/100\n",
            "158/158 [==============================] - 17s 105ms/step - loss: 45.0485 - mae: 45.5409 - val_loss: 35.4138 - val_mae: 35.9071\n",
            "Epoch 35/100\n",
            "158/158 [==============================] - 17s 106ms/step - loss: 44.8179 - mae: 45.3094 - val_loss: 35.3334 - val_mae: 35.8267\n",
            "Epoch 36/100\n",
            "158/158 [==============================] - 17s 105ms/step - loss: 44.8070 - mae: 45.2995 - val_loss: 35.7199 - val_mae: 36.2139\n",
            "Epoch 37/100\n",
            "158/158 [==============================] - 17s 106ms/step - loss: 44.7442 - mae: 45.2367 - val_loss: 35.4187 - val_mae: 35.9109\n",
            "Epoch 38/100\n",
            "158/158 [==============================] - 17s 106ms/step - loss: 44.8687 - mae: 45.3610 - val_loss: 35.7576 - val_mae: 36.2489\n",
            "Epoch 39/100\n",
            "158/158 [==============================] - 17s 106ms/step - loss: 44.8154 - mae: 45.3084 - val_loss: 35.2612 - val_mae: 35.7554\n",
            "Epoch 40/100\n",
            "158/158 [==============================] - 17s 106ms/step - loss: 44.9027 - mae: 45.3951 - val_loss: 35.3635 - val_mae: 35.8557\n",
            "Epoch 41/100\n",
            "158/158 [==============================] - 17s 105ms/step - loss: 44.8591 - mae: 45.3515 - val_loss: 35.5472 - val_mae: 36.0395\n",
            "Epoch 42/100\n",
            "158/158 [==============================] - 17s 106ms/step - loss: 44.6871 - mae: 45.1798 - val_loss: 35.2584 - val_mae: 35.7512\n",
            "Epoch 43/100\n",
            "158/158 [==============================] - 17s 106ms/step - loss: 44.6223 - mae: 45.1137 - val_loss: 35.1418 - val_mae: 35.6339\n",
            "Epoch 44/100\n",
            "158/158 [==============================] - 17s 109ms/step - loss: 44.7829 - mae: 45.2752 - val_loss: 35.2644 - val_mae: 35.7581\n",
            "Epoch 45/100\n",
            "158/158 [==============================] - 17s 107ms/step - loss: 44.6302 - mae: 45.1217 - val_loss: 35.2993 - val_mae: 35.7923\n",
            "Epoch 46/100\n",
            "158/158 [==============================] - 17s 106ms/step - loss: 44.6527 - mae: 45.1448 - val_loss: 35.4487 - val_mae: 35.9423\n",
            "Epoch 47/100\n",
            "158/158 [==============================] - 17s 108ms/step - loss: 44.8032 - mae: 45.2955 - val_loss: 35.9005 - val_mae: 36.3944\n",
            "Epoch 48/100\n",
            "158/158 [==============================] - 17s 107ms/step - loss: 44.5728 - mae: 45.0640 - val_loss: 35.2451 - val_mae: 35.7382\n",
            "Epoch 49/100\n",
            "158/158 [==============================] - 17s 108ms/step - loss: 44.5445 - mae: 45.0364 - val_loss: 36.0017 - val_mae: 36.4941\n",
            "Epoch 50/100\n",
            "158/158 [==============================] - 17s 107ms/step - loss: 44.9444 - mae: 45.4357 - val_loss: 35.2513 - val_mae: 35.7450\n",
            "Epoch 51/100\n",
            "158/158 [==============================] - 17s 106ms/step - loss: 44.5823 - mae: 45.0740 - val_loss: 35.2964 - val_mae: 35.7891\n",
            "Epoch 52/100\n",
            "158/158 [==============================] - 17s 106ms/step - loss: 44.7457 - mae: 45.2378 - val_loss: 35.2379 - val_mae: 35.7315\n",
            "Epoch 53/100\n",
            "158/158 [==============================] - 17s 107ms/step - loss: 44.8087 - mae: 45.3008 - val_loss: 35.6415 - val_mae: 36.1360\n",
            "Epoch 54/100\n",
            "158/158 [==============================] - ETA: 0s - loss: 44.5010 - mae: 44.9930\n",
            "mae sudah kurang dari 44.5!\n",
            "158/158 [==============================] - 17s 106ms/step - loss: 44.5010 - mae: 44.9930 - val_loss: 36.0786 - val_mae: 36.5727\n"
          ],
          "name": "stdout"
        }
      ]
    },
    {
      "cell_type": "code",
      "metadata": {
        "id": "WFJTpHQjM8Zl",
        "colab_type": "code",
        "colab": {
          "base_uri": "https://localhost:8080/",
          "height": 295
        },
        "outputId": "752cb738-fe3c-483a-80f3-28b3ca35bfd3"
      },
      "source": [
        "import matplotlib.pyplot as plt\n",
        "plt.plot(history.history['loss'])\n",
        "plt.plot(history.history['val_loss'])\n",
        "plt.title('Model loss')\n",
        "plt.ylabel('Loss')\n",
        "plt.xlabel('Epoch')\n",
        "plt.legend(['Train', 'Test'], loc='upper right')\n",
        "plt.show()"
      ],
      "execution_count": null,
      "outputs": [
        {
          "output_type": "display_data",
          "data": {
            "image/png": "[encoded data removed]",
            "text/plain": [
              "<Figure size 432x288 with 1 Axes>"
            ]
          },
          "metadata": {
            "tags": [],
            "needs_background": "light"
          }
        }
      ]
    },
    {
      "cell_type": "code",
      "metadata": {
        "id": "8fJPQngANCO0",
        "colab_type": "code",
        "colab": {
          "base_uri": "https://localhost:8080/",
          "height": 295
        },
        "outputId": "c7f43d58-fa7c-461b-f53f-98cedf47ce63"
      },
      "source": [
        "plt.plot(history.history['mae'])\n",
        "plt.plot(history.history['val_mae'])\n",
        "plt.title('Model mae')\n",
        "plt.ylabel('MAE')\n",
        "plt.xlabel('Epoch')\n",
        "plt.legend(['Train', 'Test'], loc='lower right')\n",
        "plt.show()"
      ],
      "execution_count": null,
      "outputs": [
        {
          "output_type": "display_data",
          "data": {
            "image/png": "[encoded data removed]",
            "text/plain": [
              "<Figure size 432x288 with 1 Axes>"
            ]
          },
          "metadata": {
            "tags": [],
            "needs_background": "light"
          }
        }
      ]
    }
  ]
}