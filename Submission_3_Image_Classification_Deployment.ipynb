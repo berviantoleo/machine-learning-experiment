{
  "nbformat": 4,
  "nbformat_minor": 0,
  "metadata": {
    "colab": {
      "name": "Submission 3 - Image Classification - Deployment.ipynb",
      "provenance": [],
      "collapsed_sections": [],
      "include_colab_link": true
    },
    "kernelspec": {
      "name": "python3",
      "display_name": "Python 3"
    },
    "accelerator": "GPU",
    "widgets": {
      "application/vnd.jupyter.widget-state+json": {
        "19d04b07789b44fdad19d920eeb39d6b": {
          "model_module": "@jupyter-widgets/controls",
          "model_name": "HBoxModel",
          "state": {
            "_view_name": "HBoxView",
            "_dom_classes": [],
            "_model_name": "HBoxModel",
            "_view_module": "@jupyter-widgets/controls",
            "_model_module_version": "1.5.0",
            "_view_count": null,
            "_view_module_version": "1.5.0",
            "box_style": "",
            "layout": "IPY_MODEL_1e11d691695440cabef791ea892692cb",
            "_model_module": "@jupyter-widgets/controls",
            "children": [
              "IPY_MODEL_d4b48c5c60d948f0a1cc4d86bcf1e828",
              "IPY_MODEL_cba4e9c1f6a244d09d61a7694f9c89bd"
            ]
          }
        },
        "1e11d691695440cabef791ea892692cb": {
          "model_module": "@jupyter-widgets/base",
          "model_name": "LayoutModel",
          "state": {
            "_view_name": "LayoutView",
            "grid_template_rows": null,
            "right": null,
            "justify_content": null,
            "_view_module": "@jupyter-widgets/base",
            "overflow": null,
            "_model_module_version": "1.2.0",
            "_view_count": null,
            "flex_flow": null,
            "width": null,
            "min_width": null,
            "border": null,
            "align_items": null,
            "bottom": null,
            "_model_module": "@jupyter-widgets/base",
            "top": null,
            "grid_column": null,
            "overflow_y": null,
            "overflow_x": null,
            "grid_auto_flow": null,
            "grid_area": null,
            "grid_template_columns": null,
            "flex": null,
            "_model_name": "LayoutModel",
            "justify_items": null,
            "grid_row": null,
            "max_height": null,
            "align_content": null,
            "visibility": null,
            "align_self": null,
            "height": null,
            "min_height": null,
            "padding": null,
            "grid_auto_rows": null,
            "grid_gap": null,
            "max_width": null,
            "order": null,
            "_view_module_version": "1.2.0",
            "grid_template_areas": null,
            "object_position": null,
            "object_fit": null,
            "grid_auto_columns": null,
            "margin": null,
            "display": null,
            "left": null
          }
        },
        "d4b48c5c60d948f0a1cc4d86bcf1e828": {
          "model_module": "@jupyter-widgets/controls",
          "model_name": "FloatProgressModel",
          "state": {
            "_view_name": "ProgressView",
            "style": "IPY_MODEL_bc97a5e8d5d44bc68db207a68475d21d",
            "_dom_classes": [],
            "description": "Dl Completed...: 100%",
            "_model_name": "FloatProgressModel",
            "bar_style": "success",
            "max": 1,
            "_view_module": "@jupyter-widgets/controls",
            "_model_module_version": "1.5.0",
            "value": 1,
            "_view_count": null,
            "_view_module_version": "1.5.0",
            "orientation": "horizontal",
            "min": 0,
            "description_tooltip": null,
            "_model_module": "@jupyter-widgets/controls",
            "layout": "IPY_MODEL_6b63e655000749d5ae401b31121633ce"
          }
        },
        "cba4e9c1f6a244d09d61a7694f9c89bd": {
          "model_module": "@jupyter-widgets/controls",
          "model_name": "HTMLModel",
          "state": {
            "_view_name": "HTMLView",
            "style": "IPY_MODEL_b723901dd5d34465a143cd8dd3061159",
            "_dom_classes": [],
            "description": "",
            "_model_name": "HTMLModel",
            "placeholder": "​",
            "_view_module": "@jupyter-widgets/controls",
            "_model_module_version": "1.5.0",
            "value": " 1/1 [02:43&lt;00:00, 163.85s/ url]",
            "_view_count": null,
            "_view_module_version": "1.5.0",
            "description_tooltip": null,
            "_model_module": "@jupyter-widgets/controls",
            "layout": "IPY_MODEL_20abfa2d21174f8180c3330ff43c450a"
          }
        },
        "bc97a5e8d5d44bc68db207a68475d21d": {
          "model_module": "@jupyter-widgets/controls",
          "model_name": "ProgressStyleModel",
          "state": {
            "_view_name": "StyleView",
            "_model_name": "ProgressStyleModel",
            "description_width": "initial",
            "_view_module": "@jupyter-widgets/base",
            "_model_module_version": "1.5.0",
            "_view_count": null,
            "_view_module_version": "1.2.0",
            "bar_color": null,
            "_model_module": "@jupyter-widgets/controls"
          }
        },
        "6b63e655000749d5ae401b31121633ce": {
          "model_module": "@jupyter-widgets/base",
          "model_name": "LayoutModel",
          "state": {
            "_view_name": "LayoutView",
            "grid_template_rows": null,
            "right": null,
            "justify_content": null,
            "_view_module": "@jupyter-widgets/base",
            "overflow": null,
            "_model_module_version": "1.2.0",
            "_view_count": null,
            "flex_flow": null,
            "width": null,
            "min_width": null,
            "border": null,
            "align_items": null,
            "bottom": null,
            "_model_module": "@jupyter-widgets/base",
            "top": null,
            "grid_column": null,
            "overflow_y": null,
            "overflow_x": null,
            "grid_auto_flow": null,
            "grid_area": null,
            "grid_template_columns": null,
            "flex": null,
            "_model_name": "LayoutModel",
            "justify_items": null,
            "grid_row": null,
            "max_height": null,
            "align_content": null,
            "visibility": null,
            "align_self": null,
            "height": null,
            "min_height": null,
            "padding": null,
            "grid_auto_rows": null,
            "grid_gap": null,
            "max_width": null,
            "order": null,
            "_view_module_version": "1.2.0",
            "grid_template_areas": null,
            "object_position": null,
            "object_fit": null,
            "grid_auto_columns": null,
            "margin": null,
            "display": null,
            "left": null
          }
        },
        "b723901dd5d34465a143cd8dd3061159": {
          "model_module": "@jupyter-widgets/controls",
          "model_name": "DescriptionStyleModel",
          "state": {
            "_view_name": "StyleView",
            "_model_name": "DescriptionStyleModel",
            "description_width": "",
            "_view_module": "@jupyter-widgets/base",
            "_model_module_version": "1.5.0",
            "_view_count": null,
            "_view_module_version": "1.2.0",
            "_model_module": "@jupyter-widgets/controls"
          }
        },
        "20abfa2d21174f8180c3330ff43c450a": {
          "model_module": "@jupyter-widgets/base",
          "model_name": "LayoutModel",
          "state": {
            "_view_name": "LayoutView",
            "grid_template_rows": null,
            "right": null,
            "justify_content": null,
            "_view_module": "@jupyter-widgets/base",
            "overflow": null,
            "_model_module_version": "1.2.0",
            "_view_count": null,
            "flex_flow": null,
            "width": null,
            "min_width": null,
            "border": null,
            "align_items": null,
            "bottom": null,
            "_model_module": "@jupyter-widgets/base",
            "top": null,
            "grid_column": null,
            "overflow_y": null,
            "overflow_x": null,
            "grid_auto_flow": null,
            "grid_area": null,
            "grid_template_columns": null,
            "flex": null,
            "_model_name": "LayoutModel",
            "justify_items": null,
            "grid_row": null,
            "max_height": null,
            "align_content": null,
            "visibility": null,
            "align_self": null,
            "height": null,
            "min_height": null,
            "padding": null,
            "grid_auto_rows": null,
            "grid_gap": null,
            "max_width": null,
            "order": null,
            "_view_module_version": "1.2.0",
            "grid_template_areas": null,
            "object_position": null,
            "object_fit": null,
            "grid_auto_columns": null,
            "margin": null,
            "display": null,
            "left": null
          }
        },
        "4ba5ef70dd114880927a12a05f5031e2": {
          "model_module": "@jupyter-widgets/controls",
          "model_name": "HBoxModel",
          "state": {
            "_view_name": "HBoxView",
            "_dom_classes": [],
            "_model_name": "HBoxModel",
            "_view_module": "@jupyter-widgets/controls",
            "_model_module_version": "1.5.0",
            "_view_count": null,
            "_view_module_version": "1.5.0",
            "box_style": "",
            "layout": "IPY_MODEL_7e013694d5694a2cb0b49bea7efc4fed",
            "_model_module": "@jupyter-widgets/controls",
            "children": [
              "IPY_MODEL_c896671c986b4a5ca86c7cf55e38984a",
              "IPY_MODEL_8646c742a3ae4aa8b3f7cad436d55b4e"
            ]
          }
        },
        "7e013694d5694a2cb0b49bea7efc4fed": {
          "model_module": "@jupyter-widgets/base",
          "model_name": "LayoutModel",
          "state": {
            "_view_name": "LayoutView",
            "grid_template_rows": null,
            "right": null,
            "justify_content": null,
            "_view_module": "@jupyter-widgets/base",
            "overflow": null,
            "_model_module_version": "1.2.0",
            "_view_count": null,
            "flex_flow": null,
            "width": null,
            "min_width": null,
            "border": null,
            "align_items": null,
            "bottom": null,
            "_model_module": "@jupyter-widgets/base",
            "top": null,
            "grid_column": null,
            "overflow_y": null,
            "overflow_x": null,
            "grid_auto_flow": null,
            "grid_area": null,
            "grid_template_columns": null,
            "flex": null,
            "_model_name": "LayoutModel",
            "justify_items": null,
            "grid_row": null,
            "max_height": null,
            "align_content": null,
            "visibility": null,
            "align_self": null,
            "height": null,
            "min_height": null,
            "padding": null,
            "grid_auto_rows": null,
            "grid_gap": null,
            "max_width": null,
            "order": null,
            "_view_module_version": "1.2.0",
            "grid_template_areas": null,
            "object_position": null,
            "object_fit": null,
            "grid_auto_columns": null,
            "margin": null,
            "display": null,
            "left": null
          }
        },
        "c896671c986b4a5ca86c7cf55e38984a": {
          "model_module": "@jupyter-widgets/controls",
          "model_name": "FloatProgressModel",
          "state": {
            "_view_name": "ProgressView",
            "style": "IPY_MODEL_41170ee5e9f2483290f0860e9285ee63",
            "_dom_classes": [],
            "description": "Dl Size...: 100%",
            "_model_name": "FloatProgressModel",
            "bar_style": "success",
            "max": 1,
            "_view_module": "@jupyter-widgets/controls",
            "_model_module_version": "1.5.0",
            "value": 1,
            "_view_count": null,
            "_view_module_version": "1.5.0",
            "orientation": "horizontal",
            "min": 0,
            "description_tooltip": null,
            "_model_module": "@jupyter-widgets/controls",
            "layout": "IPY_MODEL_08990dfb3a3842c79e123385d66a4308"
          }
        },
        "8646c742a3ae4aa8b3f7cad436d55b4e": {
          "model_module": "@jupyter-widgets/controls",
          "model_name": "HTMLModel",
          "state": {
            "_view_name": "HTMLView",
            "style": "IPY_MODEL_b2ad60388f8e471f8ee10df4dca99585",
            "_dom_classes": [],
            "description": "",
            "_model_name": "HTMLModel",
            "placeholder": "​",
            "_view_module": "@jupyter-widgets/controls",
            "_model_module_version": "1.5.0",
            "value": " 2940/2940 [02:43&lt;00:00, 17.95 MiB/s]",
            "_view_count": null,
            "_view_module_version": "1.5.0",
            "description_tooltip": null,
            "_model_module": "@jupyter-widgets/controls",
            "layout": "IPY_MODEL_b6b0f26d950248278246847a323f86bc"
          }
        },
        "41170ee5e9f2483290f0860e9285ee63": {
          "model_module": "@jupyter-widgets/controls",
          "model_name": "ProgressStyleModel",
          "state": {
            "_view_name": "StyleView",
            "_model_name": "ProgressStyleModel",
            "description_width": "initial",
            "_view_module": "@jupyter-widgets/base",
            "_model_module_version": "1.5.0",
            "_view_count": null,
            "_view_module_version": "1.2.0",
            "bar_color": null,
            "_model_module": "@jupyter-widgets/controls"
          }
        },
        "08990dfb3a3842c79e123385d66a4308": {
          "model_module": "@jupyter-widgets/base",
          "model_name": "LayoutModel",
          "state": {
            "_view_name": "LayoutView",
            "grid_template_rows": null,
            "right": null,
            "justify_content": null,
            "_view_module": "@jupyter-widgets/base",
            "overflow": null,
            "_model_module_version": "1.2.0",
            "_view_count": null,
            "flex_flow": null,
            "width": null,
            "min_width": null,
            "border": null,
            "align_items": null,
            "bottom": null,
            "_model_module": "@jupyter-widgets/base",
            "top": null,
            "grid_column": null,
            "overflow_y": null,
            "overflow_x": null,
            "grid_auto_flow": null,
            "grid_area": null,
            "grid_template_columns": null,
            "flex": null,
            "_model_name": "LayoutModel",
            "justify_items": null,
            "grid_row": null,
            "max_height": null,
            "align_content": null,
            "visibility": null,
            "align_self": null,
            "height": null,
            "min_height": null,
            "padding": null,
            "grid_auto_rows": null,
            "grid_gap": null,
            "max_width": null,
            "order": null,
            "_view_module_version": "1.2.0",
            "grid_template_areas": null,
            "object_position": null,
            "object_fit": null,
            "grid_auto_columns": null,
            "margin": null,
            "display": null,
            "left": null
          }
        },
        "b2ad60388f8e471f8ee10df4dca99585": {
          "model_module": "@jupyter-widgets/controls",
          "model_name": "DescriptionStyleModel",
          "state": {
            "_view_name": "StyleView",
            "_model_name": "DescriptionStyleModel",
            "description_width": "",
            "_view_module": "@jupyter-widgets/base",
            "_model_module_version": "1.5.0",
            "_view_count": null,
            "_view_module_version": "1.2.0",
            "_model_module": "@jupyter-widgets/controls"
          }
        },
        "b6b0f26d950248278246847a323f86bc": {
          "model_module": "@jupyter-widgets/base",
          "model_name": "LayoutModel",
          "state": {
            "_view_name": "LayoutView",
            "grid_template_rows": null,
            "right": null,
            "justify_content": null,
            "_view_module": "@jupyter-widgets/base",
            "overflow": null,
            "_model_module_version": "1.2.0",
            "_view_count": null,
            "flex_flow": null,
            "width": null,
            "min_width": null,
            "border": null,
            "align_items": null,
            "bottom": null,
            "_model_module": "@jupyter-widgets/base",
            "top": null,
            "grid_column": null,
            "overflow_y": null,
            "overflow_x": null,
            "grid_auto_flow": null,
            "grid_area": null,
            "grid_template_columns": null,
            "flex": null,
            "_model_name": "LayoutModel",
            "justify_items": null,
            "grid_row": null,
            "max_height": null,
            "align_content": null,
            "visibility": null,
            "align_self": null,
            "height": null,
            "min_height": null,
            "padding": null,
            "grid_auto_rows": null,
            "grid_gap": null,
            "max_width": null,
            "order": null,
            "_view_module_version": "1.2.0",
            "grid_template_areas": null,
            "object_position": null,
            "object_fit": null,
            "grid_auto_columns": null,
            "margin": null,
            "display": null,
            "left": null
          }
        },
        "eabae2236a9d4e218a31e1f2856f56be": {
          "model_module": "@jupyter-widgets/controls",
          "model_name": "HBoxModel",
          "state": {
            "_view_name": "HBoxView",
            "_dom_classes": [],
            "_model_name": "HBoxModel",
            "_view_module": "@jupyter-widgets/controls",
            "_model_module_version": "1.5.0",
            "_view_count": null,
            "_view_module_version": "1.5.0",
            "box_style": "",
            "layout": "IPY_MODEL_fc1828e4f39a4ccc9dab72ece286c097",
            "_model_module": "@jupyter-widgets/controls",
            "children": [
              "IPY_MODEL_682b2ea51dae40f78476e3ed38dad008",
              "IPY_MODEL_cc0ac3cf783a47d4b0a704a2011fc288"
            ]
          }
        },
        "fc1828e4f39a4ccc9dab72ece286c097": {
          "model_module": "@jupyter-widgets/base",
          "model_name": "LayoutModel",
          "state": {
            "_view_name": "LayoutView",
            "grid_template_rows": null,
            "right": null,
            "justify_content": null,
            "_view_module": "@jupyter-widgets/base",
            "overflow": null,
            "_model_module_version": "1.2.0",
            "_view_count": null,
            "flex_flow": null,
            "width": null,
            "min_width": null,
            "border": null,
            "align_items": null,
            "bottom": null,
            "_model_module": "@jupyter-widgets/base",
            "top": null,
            "grid_column": null,
            "overflow_y": null,
            "overflow_x": null,
            "grid_auto_flow": null,
            "grid_area": null,
            "grid_template_columns": null,
            "flex": null,
            "_model_name": "LayoutModel",
            "justify_items": null,
            "grid_row": null,
            "max_height": null,
            "align_content": null,
            "visibility": null,
            "align_self": null,
            "height": null,
            "min_height": null,
            "padding": null,
            "grid_auto_rows": null,
            "grid_gap": null,
            "max_width": null,
            "order": null,
            "_view_module_version": "1.2.0",
            "grid_template_areas": null,
            "object_position": null,
            "object_fit": null,
            "grid_auto_columns": null,
            "margin": null,
            "display": null,
            "left": null
          }
        },
        "682b2ea51dae40f78476e3ed38dad008": {
          "model_module": "@jupyter-widgets/controls",
          "model_name": "FloatProgressModel",
          "state": {
            "_view_name": "ProgressView",
            "style": "IPY_MODEL_77910ec970624229b8a68743e470c3b6",
            "_dom_classes": [],
            "description": "Extraction completed...: 100%",
            "_model_name": "FloatProgressModel",
            "bar_style": "success",
            "max": 1,
            "_view_module": "@jupyter-widgets/controls",
            "_model_module_version": "1.5.0",
            "value": 1,
            "_view_count": null,
            "_view_module_version": "1.5.0",
            "orientation": "horizontal",
            "min": 0,
            "description_tooltip": null,
            "_model_module": "@jupyter-widgets/controls",
            "layout": "IPY_MODEL_62916bdb22844597b276e50622c94558"
          }
        },
        "cc0ac3cf783a47d4b0a704a2011fc288": {
          "model_module": "@jupyter-widgets/controls",
          "model_name": "HTMLModel",
          "state": {
            "_view_name": "HTMLView",
            "style": "IPY_MODEL_9e9c08d64dcf4f5fa0552f252ce37886",
            "_dom_classes": [],
            "description": "",
            "_model_name": "HTMLModel",
            "placeholder": "​",
            "_view_module": "@jupyter-widgets/controls",
            "_model_module_version": "1.5.0",
            "value": " 1/1 [02:43&lt;00:00, 163.79s/ file]",
            "_view_count": null,
            "_view_module_version": "1.5.0",
            "description_tooltip": null,
            "_model_module": "@jupyter-widgets/controls",
            "layout": "IPY_MODEL_88f0daecd6154a3989bd9bf8596c104e"
          }
        },
        "77910ec970624229b8a68743e470c3b6": {
          "model_module": "@jupyter-widgets/controls",
          "model_name": "ProgressStyleModel",
          "state": {
            "_view_name": "StyleView",
            "_model_name": "ProgressStyleModel",
            "description_width": "initial",
            "_view_module": "@jupyter-widgets/base",
            "_model_module_version": "1.5.0",
            "_view_count": null,
            "_view_module_version": "1.2.0",
            "bar_color": null,
            "_model_module": "@jupyter-widgets/controls"
          }
        },
        "62916bdb22844597b276e50622c94558": {
          "model_module": "@jupyter-widgets/base",
          "model_name": "LayoutModel",
          "state": {
            "_view_name": "LayoutView",
            "grid_template_rows": null,
            "right": null,
            "justify_content": null,
            "_view_module": "@jupyter-widgets/base",
            "overflow": null,
            "_model_module_version": "1.2.0",
            "_view_count": null,
            "flex_flow": null,
            "width": null,
            "min_width": null,
            "border": null,
            "align_items": null,
            "bottom": null,
            "_model_module": "@jupyter-widgets/base",
            "top": null,
            "grid_column": null,
            "overflow_y": null,
            "overflow_x": null,
            "grid_auto_flow": null,
            "grid_area": null,
            "grid_template_columns": null,
            "flex": null,
            "_model_name": "LayoutModel",
            "justify_items": null,
            "grid_row": null,
            "max_height": null,
            "align_content": null,
            "visibility": null,
            "align_self": null,
            "height": null,
            "min_height": null,
            "padding": null,
            "grid_auto_rows": null,
            "grid_gap": null,
            "max_width": null,
            "order": null,
            "_view_module_version": "1.2.0",
            "grid_template_areas": null,
            "object_position": null,
            "object_fit": null,
            "grid_auto_columns": null,
            "margin": null,
            "display": null,
            "left": null
          }
        },
        "9e9c08d64dcf4f5fa0552f252ce37886": {
          "model_module": "@jupyter-widgets/controls",
          "model_name": "DescriptionStyleModel",
          "state": {
            "_view_name": "StyleView",
            "_model_name": "DescriptionStyleModel",
            "description_width": "",
            "_view_module": "@jupyter-widgets/base",
            "_model_module_version": "1.5.0",
            "_view_count": null,
            "_view_module_version": "1.2.0",
            "_model_module": "@jupyter-widgets/controls"
          }
        },
        "88f0daecd6154a3989bd9bf8596c104e": {
          "model_module": "@jupyter-widgets/base",
          "model_name": "LayoutModel",
          "state": {
            "_view_name": "LayoutView",
            "grid_template_rows": null,
            "right": null,
            "justify_content": null,
            "_view_module": "@jupyter-widgets/base",
            "overflow": null,
            "_model_module_version": "1.2.0",
            "_view_count": null,
            "flex_flow": null,
            "width": null,
            "min_width": null,
            "border": null,
            "align_items": null,
            "bottom": null,
            "_model_module": "@jupyter-widgets/base",
            "top": null,
            "grid_column": null,
            "overflow_y": null,
            "overflow_x": null,
            "grid_auto_flow": null,
            "grid_area": null,
            "grid_template_columns": null,
            "flex": null,
            "_model_name": "LayoutModel",
            "justify_items": null,
            "grid_row": null,
            "max_height": null,
            "align_content": null,
            "visibility": null,
            "align_self": null,
            "height": null,
            "min_height": null,
            "padding": null,
            "grid_auto_rows": null,
            "grid_gap": null,
            "max_width": null,
            "order": null,
            "_view_module_version": "1.2.0",
            "grid_template_areas": null,
            "object_position": null,
            "object_fit": null,
            "grid_auto_columns": null,
            "margin": null,
            "display": null,
            "left": null
          }
        }
      }
    }
  },
  "cells": [
    {
      "cell_type": "markdown",
      "metadata": {
        "id": "view-in-github",
        "colab_type": "text"
      },
      "source": [
        "<a href=\"https://colab.research.google.com/github/berviantoleo/machine-learning-experiment/blob/master/Submission_3_Image_Classification_Deployment.ipynb\" target=\"_parent\"><img src=\"https://colab.research.google.com/assets/colab-badge.svg\" alt=\"Open In Colab\"/></a>"
      ]
    },
    {
      "cell_type": "markdown",
      "metadata": {
        "id": "_63bzfbSLLn2",
        "colab_type": "text"
      },
      "source": [
        "Created by: Bervianto Leo Pratama            "
      ]
    },
    {
      "cell_type": "markdown",
      "metadata": {
        "id": "u7oNAmvS8Wxh",
        "colab_type": "text"
      },
      "source": [
        "# Online Products\n",
        "\n",
        "Source dataset: https://cvgl.stanford.edu/projects/lifted_struct/\n",
        "\n",
        "The research document for initial research: https://cvgl.stanford.edu/papers/song_cvpr16.pdf\n",
        "\n",
        "Another reference about the dataset: https://www.tensorflow.org/datasets/catalog/stanford_online_products\n"
      ]
    },
    {
      "cell_type": "code",
      "metadata": {
        "id": "SBOZG2M6bg06",
        "colab_type": "code",
        "colab": {
          "base_uri": "https://localhost:8080/",
          "height": 36
        },
        "outputId": "4fbcb5b9-a167-40bd-9f90-269147aba3bc"
      },
      "source": [
        "import tensorflow as tf\n",
        "tf.test.gpu_device_name()"
      ],
      "execution_count": null,
      "outputs": [
        {
          "output_type": "execute_result",
          "data": {
            "application/vnd.google.colaboratory.intrinsic+json": {
              "type": "string"
            },
            "text/plain": [
              "'/device:GPU:0'"
            ]
          },
          "metadata": {
            "tags": []
          },
          "execution_count": 1
        }
      ]
    },
    {
      "cell_type": "markdown",
      "metadata": {
        "id": "m2E9Q2_lYq5e",
        "colab_type": "text"
      },
      "source": [
        "## Data Preparation"
      ]
    },
    {
      "cell_type": "code",
      "metadata": {
        "id": "LOM5nOnAaHyU",
        "colab_type": "code",
        "colab": {
          "base_uri": "https://localhost:8080/",
          "height": 223,
          "referenced_widgets": [
            "19d04b07789b44fdad19d920eeb39d6b",
            "1e11d691695440cabef791ea892692cb",
            "d4b48c5c60d948f0a1cc4d86bcf1e828",
            "cba4e9c1f6a244d09d61a7694f9c89bd",
            "bc97a5e8d5d44bc68db207a68475d21d",
            "6b63e655000749d5ae401b31121633ce",
            "b723901dd5d34465a143cd8dd3061159",
            "20abfa2d21174f8180c3330ff43c450a",
            "4ba5ef70dd114880927a12a05f5031e2",
            "7e013694d5694a2cb0b49bea7efc4fed",
            "c896671c986b4a5ca86c7cf55e38984a",
            "8646c742a3ae4aa8b3f7cad436d55b4e",
            "41170ee5e9f2483290f0860e9285ee63",
            "08990dfb3a3842c79e123385d66a4308",
            "b2ad60388f8e471f8ee10df4dca99585",
            "b6b0f26d950248278246847a323f86bc",
            "eabae2236a9d4e218a31e1f2856f56be",
            "fc1828e4f39a4ccc9dab72ece286c097",
            "682b2ea51dae40f78476e3ed38dad008",
            "cc0ac3cf783a47d4b0a704a2011fc288",
            "77910ec970624229b8a68743e470c3b6",
            "62916bdb22844597b276e50622c94558",
            "9e9c08d64dcf4f5fa0552f252ce37886",
            "88f0daecd6154a3989bd9bf8596c104e"
          ]
        },
        "outputId": "aa94a769-ce41-45cc-8ff3-b77f76b4144e"
      },
      "source": [
        "import tensorflow_datasets as tfds\n",
        "\n",
        "dl_manager = tfds.download.DownloadManager(download_dir='stanford_online_products')\n",
        "dataset_dir = dl_manager.download_and_extract('ftp://cs.stanford.edu/cs/cvgl/Stanford_Online_Products.zip')\n"
      ],
      "execution_count": null,
      "outputs": [
        {
          "output_type": "display_data",
          "data": {
            "application/vnd.jupyter.widget-view+json": {
              "model_id": "19d04b07789b44fdad19d920eeb39d6b",
              "version_minor": 0,
              "version_major": 2
            },
            "text/plain": [
              "HBox(children=(FloatProgress(value=1.0, bar_style='info', description='Dl Completed...', max=1.0, style=Progre…"
            ]
          },
          "metadata": {
            "tags": []
          }
        },
        {
          "output_type": "display_data",
          "data": {
            "application/vnd.jupyter.widget-view+json": {
              "model_id": "4ba5ef70dd114880927a12a05f5031e2",
              "version_minor": 0,
              "version_major": 2
            },
            "text/plain": [
              "HBox(children=(FloatProgress(value=1.0, bar_style='info', description='Dl Size...', max=1.0, style=ProgressSty…"
            ]
          },
          "metadata": {
            "tags": []
          }
        },
        {
          "output_type": "display_data",
          "data": {
            "application/vnd.jupyter.widget-view+json": {
              "model_id": "eabae2236a9d4e218a31e1f2856f56be",
              "version_minor": 0,
              "version_major": 2
            },
            "text/plain": [
              "HBox(children=(FloatProgress(value=1.0, bar_style='info', description='Extraction completed...', max=1.0, styl…"
            ]
          },
          "metadata": {
            "tags": []
          }
        },
        {
          "output_type": "stream",
          "text": [
            "\n",
            "\n",
            "\n",
            "\n",
            "\n",
            "\n"
          ],
          "name": "stdout"
        }
      ]
    },
    {
      "cell_type": "code",
      "metadata": {
        "id": "O37hvEAdaOW8",
        "colab_type": "code",
        "colab": {
          "base_uri": "https://localhost:8080/",
          "height": 568
        },
        "outputId": "173ede54-6df5-4ba3-e213-70dbd0067270"
      },
      "source": [
        "import os\n",
        "dir_set = os.path.join(dataset_dir, 'Stanford_Online_Products')\n",
        "os.listdir(dir_set)"
      ],
      "execution_count": null,
      "outputs": [
        {
          "output_type": "execute_result",
          "data": {
            "text/plain": [
              "['stapler_final.txt',\n",
              " 'chair_final',\n",
              " 'coffee_maker_final.txt',\n",
              " 'coffee_maker_final',\n",
              " 'mug_final',\n",
              " 'fan_final',\n",
              " 'bicycle_final.txt',\n",
              " 'kettle_final.txt',\n",
              " 'Ebay_test.txt',\n",
              " 'bicycle_final',\n",
              " 'toaster_final.txt',\n",
              " 'chair_final.txt',\n",
              " 'sofa_final',\n",
              " 'lamp_final',\n",
              " 'sofa_final.txt',\n",
              " 'table_final.txt',\n",
              " 'LICENSE',\n",
              " 'stapler_final',\n",
              " 'lamp_final.txt',\n",
              " 'Ebay_final.txt',\n",
              " 'cabinet_final.txt',\n",
              " 'README',\n",
              " 'kettle_final',\n",
              " 'toaster_final',\n",
              " 'Ebay_info.txt',\n",
              " 'cabinet_final',\n",
              " 'Ebay_train.txt',\n",
              " 'mug_final.txt',\n",
              " 'fan_final.txt',\n",
              " 'table_final']"
            ]
          },
          "metadata": {
            "tags": []
          },
          "execution_count": 3
        }
      ]
    },
    {
      "cell_type": "code",
      "metadata": {
        "id": "Uy-JqxlQkh9A",
        "colab_type": "code",
        "colab": {}
      },
      "source": [
        "from tensorflow.keras.preprocessing.image import ImageDataGenerator\n",
        "train_datagen = ImageDataGenerator(rescale=1./255,\n",
        "    zoom_range=0.2,\n",
        "    shear_range=0.2,\n",
        "    rotation_range=20,\n",
        "    fill_mode='nearest',\n",
        "    horizontal_flip=True,\n",
        "    validation_split=0.2) # set validation split"
      ],
      "execution_count": null,
      "outputs": []
    },
    {
      "cell_type": "code",
      "metadata": {
        "id": "3-0zfShaRsxc",
        "colab_type": "code",
        "colab": {
          "base_uri": "https://localhost:8080/",
          "height": 54
        },
        "outputId": "9822d991-89ae-403f-932b-87c13e4fc02e"
      },
      "source": [
        "train_generator = train_datagen.flow_from_directory(\n",
        "      dir_set,\n",
        "      target_size=(224, 224),\n",
        "      batch_size=64,\n",
        "      classes=['bicycle_final', 'cabinet_final', 'coffee_maker_final'],\n",
        "      class_mode='categorical',\n",
        "      subset='training') # set as training data\n",
        "validation_generator = train_datagen.flow_from_directory(\n",
        "      dir_set, # same directory as training data\n",
        "      target_size=(224, 224),\n",
        "      batch_size=64,\n",
        "      classes=['bicycle_final', 'cabinet_final', 'coffee_maker_final'],\n",
        "      class_mode='categorical',\n",
        "      subset='validation')"
      ],
      "execution_count": null,
      "outputs": [
        {
          "output_type": "stream",
          "text": [
            "Found 24065 images belonging to 3 classes.\n",
            "Found 6014 images belonging to 3 classes.\n"
          ],
          "name": "stdout"
        }
      ]
    },
    {
      "cell_type": "markdown",
      "metadata": {
        "id": "CDhxI1n8Y05t",
        "colab_type": "text"
      },
      "source": [
        "## Define Callback\n"
      ]
    },
    {
      "cell_type": "code",
      "metadata": {
        "id": "UkwOrVB3D-M3",
        "colab_type": "code",
        "colab": {}
      },
      "source": [
        "class myCallback(tf.keras.callbacks.Callback):\n",
        "   def on_epoch_end(self, epoch, logs={}):\n",
        "      if(logs.get('accuracy') >= 0.92 and logs.get('val_accuracy') >= 0.92):\n",
        "          print(\"\\nAkurasi telah mencapai >=92%!\")\n",
        "          self.model.stop_training = True\n",
        "callbacks = myCallback()\n",
        "\n",
        "reduce_lr = tf.keras.callbacks.ReduceLROnPlateau(monitor='val_loss', patience=15, min_lr=0.00001, verbose=2)"
      ],
      "execution_count": null,
      "outputs": []
    },
    {
      "cell_type": "markdown",
      "metadata": {
        "id": "1zGhw9-3Yx3e",
        "colab_type": "text"
      },
      "source": [
        "## Model Preparation"
      ]
    },
    {
      "cell_type": "code",
      "metadata": {
        "id": "atTL-RAYVhDP",
        "colab_type": "code",
        "colab": {
          "base_uri": "https://localhost:8080/",
          "height": 899
        },
        "outputId": "a424253f-46a3-49f6-fd74-465d1c5c73c7"
      },
      "source": [
        "from keras.applications.vgg16 import VGG16\n",
        "from tensorflow.keras.layers import Input\n",
        "base_model = VGG16(include_top=False, input_tensor=Input(shape=(224, 224, 3)))\n",
        "base_model.trainable = False\n",
        "base_model.summary()"
      ],
      "execution_count": null,
      "outputs": [
        {
          "output_type": "stream",
          "text": [
            "Downloading data from https://storage.googleapis.com/tensorflow/keras-applications/vgg16/vgg16_weights_tf_dim_ordering_tf_kernels_notop.h5\n",
            "58892288/58889256 [==============================] - 1s 0us/step\n",
            "Model: \"vgg16\"\n",
            "_________________________________________________________________\n",
            "Layer (type)                 Output Shape              Param #   \n",
            "=================================================================\n",
            "input_1 (InputLayer)         [(None, 224, 224, 3)]     0         \n",
            "_________________________________________________________________\n",
            "block1_conv1 (Conv2D)        (None, 224, 224, 64)      1792      \n",
            "_________________________________________________________________\n",
            "block1_conv2 (Conv2D)        (None, 224, 224, 64)      36928     \n",
            "_________________________________________________________________\n",
            "block1_pool (MaxPooling2D)   (None, 112, 112, 64)      0         \n",
            "_________________________________________________________________\n",
            "block2_conv1 (Conv2D)        (None, 112, 112, 128)     73856     \n",
            "_________________________________________________________________\n",
            "block2_conv2 (Conv2D)        (None, 112, 112, 128)     147584    \n",
            "_________________________________________________________________\n",
            "block2_pool (MaxPooling2D)   (None, 56, 56, 128)       0         \n",
            "_________________________________________________________________\n",
            "block3_conv1 (Conv2D)        (None, 56, 56, 256)       295168    \n",
            "_________________________________________________________________\n",
            "block3_conv2 (Conv2D)        (None, 56, 56, 256)       590080    \n",
            "_________________________________________________________________\n",
            "block3_conv3 (Conv2D)        (None, 56, 56, 256)       590080    \n",
            "_________________________________________________________________\n",
            "block3_pool (MaxPooling2D)   (None, 28, 28, 256)       0         \n",
            "_________________________________________________________________\n",
            "block4_conv1 (Conv2D)        (None, 28, 28, 512)       1180160   \n",
            "_________________________________________________________________\n",
            "block4_conv2 (Conv2D)        (None, 28, 28, 512)       2359808   \n",
            "_________________________________________________________________\n",
            "block4_conv3 (Conv2D)        (None, 28, 28, 512)       2359808   \n",
            "_________________________________________________________________\n",
            "block4_pool (MaxPooling2D)   (None, 14, 14, 512)       0         \n",
            "_________________________________________________________________\n",
            "block5_conv1 (Conv2D)        (None, 14, 14, 512)       2359808   \n",
            "_________________________________________________________________\n",
            "block5_conv2 (Conv2D)        (None, 14, 14, 512)       2359808   \n",
            "_________________________________________________________________\n",
            "block5_conv3 (Conv2D)        (None, 14, 14, 512)       2359808   \n",
            "_________________________________________________________________\n",
            "block5_pool (MaxPooling2D)   (None, 7, 7, 512)         0         \n",
            "=================================================================\n",
            "Total params: 14,714,688\n",
            "Trainable params: 0\n",
            "Non-trainable params: 14,714,688\n",
            "_________________________________________________________________\n"
          ],
          "name": "stdout"
        }
      ]
    },
    {
      "cell_type": "code",
      "metadata": {
        "id": "tRS_kZvI5pXH",
        "colab_type": "code",
        "colab": {}
      },
      "source": [
        "model = tf.keras.models.Sequential([\n",
        "    base_model,  \n",
        "    # Flatten the results to feed into a DNN\n",
        "    tf.keras.layers.Flatten(),\n",
        "    # 512 neuron hidden layer\n",
        "    tf.keras.layers.Dense(512, activation='relu'),\n",
        "    tf.keras.layers.Dropout(0.4),\n",
        "    tf.keras.layers.Dense(256, activation='relu'),\n",
        "    tf.keras.layers.Dense(3, activation='softmax')   \n",
        "])"
      ],
      "execution_count": null,
      "outputs": []
    },
    {
      "cell_type": "code",
      "metadata": {
        "id": "OkRwW5HSEOWv",
        "colab_type": "code",
        "colab": {}
      },
      "source": [
        "model.compile(optimizer=tf.optimizers.Adam(),\n",
        "              loss='categorical_crossentropy',\n",
        "              metrics = ['accuracy'])"
      ],
      "execution_count": null,
      "outputs": []
    },
    {
      "cell_type": "code",
      "metadata": {
        "id": "ON_8M8ZA5hy9",
        "colab_type": "code",
        "colab": {
          "base_uri": "https://localhost:8080/",
          "height": 384
        },
        "outputId": "c9a22c72-a901-4909-9a5b-8a31da169b65"
      },
      "source": [
        "model.summary()"
      ],
      "execution_count": null,
      "outputs": [
        {
          "output_type": "stream",
          "text": [
            "Model: \"sequential\"\n",
            "_________________________________________________________________\n",
            "Layer (type)                 Output Shape              Param #   \n",
            "=================================================================\n",
            "vgg16 (Functional)           (None, 7, 7, 512)         14714688  \n",
            "_________________________________________________________________\n",
            "flatten (Flatten)            (None, 25088)             0         \n",
            "_________________________________________________________________\n",
            "dense (Dense)                (None, 512)               12845568  \n",
            "_________________________________________________________________\n",
            "dropout (Dropout)            (None, 512)               0         \n",
            "_________________________________________________________________\n",
            "dense_1 (Dense)              (None, 256)               131328    \n",
            "_________________________________________________________________\n",
            "dense_2 (Dense)              (None, 3)                 771       \n",
            "=================================================================\n",
            "Total params: 27,692,355\n",
            "Trainable params: 12,977,667\n",
            "Non-trainable params: 14,714,688\n",
            "_________________________________________________________________\n"
          ],
          "name": "stdout"
        }
      ]
    },
    {
      "cell_type": "markdown",
      "metadata": {
        "id": "VHIHotc9Y97i",
        "colab_type": "text"
      },
      "source": [
        "## Model Training"
      ]
    },
    {
      "cell_type": "code",
      "metadata": {
        "id": "kFASaoNCEkHW",
        "colab_type": "code",
        "cellView": "both",
        "colab": {
          "base_uri": "https://localhost:8080/",
          "height": 1000
        },
        "outputId": "7127530c-4482-416c-dcad-f31d548914e9"
      },
      "source": [
        "#@title\n",
        "with tf.device('/device:GPU:0'):\n",
        "  history = model.fit(train_generator,\n",
        "                   validation_data=validation_generator,\n",
        "                   epochs=500,\n",
        "                   batch_size=128,\n",
        "                   callbacks=[callbacks, reduce_lr],\n",
        "                   steps_per_epoch=5,\n",
        "                   verbose=2)"
      ],
      "execution_count": null,
      "outputs": [
        {
          "output_type": "stream",
          "text": [
            "Epoch 1/500\n",
            "5/5 - 81s - loss: 6.5270 - accuracy: 0.3219 - val_loss: 2.6657 - val_accuracy: 0.5371\n",
            "Epoch 2/500\n",
            "5/5 - 78s - loss: 2.8040 - accuracy: 0.5344 - val_loss: 0.6168 - val_accuracy: 0.5961\n",
            "Epoch 3/500\n",
            "5/5 - 78s - loss: 1.1720 - accuracy: 0.5562 - val_loss: 0.4424 - val_accuracy: 0.8557\n",
            "Epoch 4/500\n",
            "5/5 - 78s - loss: 0.6855 - accuracy: 0.7281 - val_loss: 0.4086 - val_accuracy: 0.8375\n",
            "Epoch 5/500\n",
            "5/5 - 78s - loss: 0.5497 - accuracy: 0.7906 - val_loss: 0.3559 - val_accuracy: 0.8748\n",
            "Epoch 6/500\n",
            "5/5 - 78s - loss: 0.4066 - accuracy: 0.8438 - val_loss: 0.3378 - val_accuracy: 0.8770\n",
            "Epoch 7/500\n",
            "5/5 - 78s - loss: 0.5237 - accuracy: 0.7875 - val_loss: 0.3709 - val_accuracy: 0.8700\n",
            "Epoch 8/500\n",
            "5/5 - 78s - loss: 0.4209 - accuracy: 0.8188 - val_loss: 0.3047 - val_accuracy: 0.8903\n",
            "Epoch 9/500\n",
            "5/5 - 78s - loss: 0.2730 - accuracy: 0.8969 - val_loss: 0.3161 - val_accuracy: 0.8818\n",
            "Epoch 10/500\n",
            "5/5 - 78s - loss: 0.3177 - accuracy: 0.8719 - val_loss: 0.2843 - val_accuracy: 0.8947\n",
            "Epoch 11/500\n",
            "5/5 - 78s - loss: 0.3238 - accuracy: 0.8750 - val_loss: 0.2930 - val_accuracy: 0.8949\n",
            "Epoch 12/500\n",
            "5/5 - 78s - loss: 0.3150 - accuracy: 0.8938 - val_loss: 0.3131 - val_accuracy: 0.8838\n",
            "Epoch 13/500\n",
            "5/5 - 78s - loss: 0.3443 - accuracy: 0.8875 - val_loss: 0.2939 - val_accuracy: 0.8944\n",
            "Epoch 14/500\n",
            "5/5 - 78s - loss: 0.3492 - accuracy: 0.8781 - val_loss: 0.2736 - val_accuracy: 0.9001\n",
            "Epoch 15/500\n",
            "5/5 - 78s - loss: 0.3172 - accuracy: 0.8813 - val_loss: 0.2701 - val_accuracy: 0.9004\n",
            "Epoch 16/500\n",
            "5/5 - 78s - loss: 0.3053 - accuracy: 0.8813 - val_loss: 0.2665 - val_accuracy: 0.9042\n",
            "Epoch 17/500\n",
            "5/5 - 78s - loss: 0.3212 - accuracy: 0.8750 - val_loss: 0.2605 - val_accuracy: 0.9052\n",
            "Epoch 18/500\n",
            "5/5 - 78s - loss: 0.2666 - accuracy: 0.9156 - val_loss: 0.2593 - val_accuracy: 0.9056\n",
            "Epoch 19/500\n",
            "5/5 - 78s - loss: 0.3311 - accuracy: 0.8719 - val_loss: 0.2510 - val_accuracy: 0.9094\n",
            "Epoch 20/500\n",
            "5/5 - 78s - loss: 0.2852 - accuracy: 0.9000 - val_loss: 0.2833 - val_accuracy: 0.8911\n",
            "Epoch 21/500\n",
            "5/5 - 78s - loss: 0.3142 - accuracy: 0.8687 - val_loss: 0.2530 - val_accuracy: 0.9064\n",
            "Epoch 22/500\n",
            "5/5 - 78s - loss: 0.2893 - accuracy: 0.8875 - val_loss: 0.2679 - val_accuracy: 0.8992\n",
            "Epoch 23/500\n",
            "5/5 - 78s - loss: 0.2978 - accuracy: 0.8813 - val_loss: 0.2737 - val_accuracy: 0.9036\n",
            "Epoch 24/500\n",
            "5/5 - 78s - loss: 0.2629 - accuracy: 0.9062 - val_loss: 0.2492 - val_accuracy: 0.9089\n",
            "Epoch 25/500\n",
            "5/5 - 78s - loss: 0.3839 - accuracy: 0.8781 - val_loss: 0.2549 - val_accuracy: 0.9054\n",
            "Epoch 26/500\n",
            "5/5 - 78s - loss: 0.2436 - accuracy: 0.9187 - val_loss: 0.2585 - val_accuracy: 0.9059\n",
            "Epoch 27/500\n",
            "5/5 - 78s - loss: 0.2718 - accuracy: 0.8969 - val_loss: 0.2527 - val_accuracy: 0.9079\n",
            "Epoch 28/500\n",
            "5/5 - 78s - loss: 0.2949 - accuracy: 0.8844 - val_loss: 0.2497 - val_accuracy: 0.9087\n",
            "Epoch 29/500\n",
            "5/5 - 78s - loss: 0.3200 - accuracy: 0.8719 - val_loss: 0.2573 - val_accuracy: 0.9074\n",
            "Epoch 30/500\n",
            "5/5 - 78s - loss: 0.2204 - accuracy: 0.9344 - val_loss: 0.2644 - val_accuracy: 0.9049\n",
            "Epoch 31/500\n",
            "5/5 - 78s - loss: 0.2291 - accuracy: 0.9312 - val_loss: 0.2360 - val_accuracy: 0.9145\n",
            "Epoch 32/500\n",
            "5/5 - 78s - loss: 0.3162 - accuracy: 0.8687 - val_loss: 0.2549 - val_accuracy: 0.9090\n",
            "Epoch 33/500\n",
            "5/5 - 78s - loss: 0.3405 - accuracy: 0.8750 - val_loss: 0.2517 - val_accuracy: 0.9064\n",
            "Epoch 34/500\n",
            "5/5 - 78s - loss: 0.3404 - accuracy: 0.8750 - val_loss: 0.2627 - val_accuracy: 0.9017\n",
            "Epoch 35/500\n",
            "5/5 - 78s - loss: 0.2638 - accuracy: 0.9031 - val_loss: 0.2532 - val_accuracy: 0.9066\n",
            "Epoch 36/500\n",
            "5/5 - 78s - loss: 0.2783 - accuracy: 0.8969 - val_loss: 0.2416 - val_accuracy: 0.9114\n",
            "Epoch 37/500\n",
            "5/5 - 78s - loss: 0.3834 - accuracy: 0.8562 - val_loss: 0.2345 - val_accuracy: 0.9170\n",
            "Epoch 38/500\n",
            "5/5 - 78s - loss: 0.2518 - accuracy: 0.9156 - val_loss: 0.2357 - val_accuracy: 0.9125\n",
            "Epoch 39/500\n",
            "5/5 - 78s - loss: 0.2771 - accuracy: 0.8906 - val_loss: 0.2665 - val_accuracy: 0.8989\n",
            "Epoch 40/500\n",
            "5/5 - 78s - loss: 0.2413 - accuracy: 0.9125 - val_loss: 0.2435 - val_accuracy: 0.9112\n",
            "Epoch 41/500\n",
            "5/5 - 78s - loss: 0.3766 - accuracy: 0.8813 - val_loss: 0.2502 - val_accuracy: 0.9077\n",
            "Epoch 42/500\n",
            "5/5 - 78s - loss: 0.2342 - accuracy: 0.9281 - val_loss: 0.2713 - val_accuracy: 0.9041\n",
            "Epoch 43/500\n",
            "5/5 - 78s - loss: 0.3366 - accuracy: 0.8750 - val_loss: 0.2713 - val_accuracy: 0.8992\n",
            "Epoch 44/500\n",
            "5/5 - 78s - loss: 0.2990 - accuracy: 0.8875 - val_loss: 0.2400 - val_accuracy: 0.9144\n",
            "Epoch 45/500\n",
            "5/5 - 78s - loss: 0.2621 - accuracy: 0.9094 - val_loss: 0.2294 - val_accuracy: 0.9164\n",
            "Epoch 46/500\n",
            "5/5 - 78s - loss: 0.2939 - accuracy: 0.8844 - val_loss: 0.2477 - val_accuracy: 0.9095\n",
            "Epoch 47/500\n",
            "5/5 - 78s - loss: 0.2006 - accuracy: 0.9375 - val_loss: 0.2350 - val_accuracy: 0.9142\n",
            "Epoch 48/500\n",
            "5/5 - 78s - loss: 0.2421 - accuracy: 0.9000 - val_loss: 0.2420 - val_accuracy: 0.9124\n",
            "Epoch 49/500\n",
            "5/5 - 78s - loss: 0.3425 - accuracy: 0.8875 - val_loss: 0.2425 - val_accuracy: 0.9132\n",
            "Epoch 50/500\n",
            "5/5 - 78s - loss: 0.3102 - accuracy: 0.8781 - val_loss: 0.2342 - val_accuracy: 0.9164\n",
            "Epoch 51/500\n",
            "5/5 - 78s - loss: 0.2742 - accuracy: 0.8938 - val_loss: 0.2555 - val_accuracy: 0.9034\n",
            "Epoch 52/500\n",
            "5/5 - 78s - loss: 0.3561 - accuracy: 0.8813 - val_loss: 0.2301 - val_accuracy: 0.9214\n",
            "Epoch 53/500\n",
            "5/5 - 78s - loss: 0.2754 - accuracy: 0.9219 - val_loss: 0.2519 - val_accuracy: 0.9061\n",
            "Epoch 54/500\n",
            "5/5 - 78s - loss: 0.2299 - accuracy: 0.9250 - val_loss: 0.2618 - val_accuracy: 0.9066\n",
            "Epoch 55/500\n",
            "5/5 - 78s - loss: 0.3068 - accuracy: 0.8938 - val_loss: 0.2463 - val_accuracy: 0.9139\n",
            "Epoch 56/500\n",
            "5/5 - 78s - loss: 0.2930 - accuracy: 0.8969 - val_loss: 0.2313 - val_accuracy: 0.9195\n",
            "Epoch 57/500\n",
            "5/5 - 79s - loss: 0.2793 - accuracy: 0.8781 - val_loss: 0.2402 - val_accuracy: 0.9109\n",
            "Epoch 58/500\n",
            "5/5 - 79s - loss: 0.2605 - accuracy: 0.9062 - val_loss: 0.2294 - val_accuracy: 0.9177\n",
            "Epoch 59/500\n",
            "5/5 - 79s - loss: 0.1895 - accuracy: 0.9250 - val_loss: 0.2391 - val_accuracy: 0.9142\n",
            "Epoch 60/500\n",
            "\n",
            "Epoch 00060: ReduceLROnPlateau reducing learning rate to 0.00010000000474974513.\n",
            "5/5 - 79s - loss: 0.2287 - accuracy: 0.9187 - val_loss: 0.2425 - val_accuracy: 0.9134\n",
            "Epoch 61/500\n",
            "5/5 - 79s - loss: 0.2155 - accuracy: 0.9281 - val_loss: 0.2373 - val_accuracy: 0.9167\n",
            "Epoch 62/500\n",
            "5/5 - 80s - loss: 0.2759 - accuracy: 0.9000 - val_loss: 0.2329 - val_accuracy: 0.9162\n",
            "Epoch 63/500\n",
            "5/5 - 80s - loss: 0.2473 - accuracy: 0.9156 - val_loss: 0.2240 - val_accuracy: 0.9192\n",
            "Epoch 64/500\n",
            "5/5 - 80s - loss: 0.2134 - accuracy: 0.9281 - val_loss: 0.2310 - val_accuracy: 0.9184\n",
            "Epoch 65/500\n",
            "5/5 - 80s - loss: 0.1895 - accuracy: 0.9250 - val_loss: 0.2300 - val_accuracy: 0.9179\n",
            "Epoch 66/500\n",
            "\n",
            "Akurasi telah mencapai >=92%!\n",
            "5/5 - 81s - loss: 0.2278 - accuracy: 0.9250 - val_loss: 0.2255 - val_accuracy: 0.9223\n"
          ],
          "name": "stdout"
        }
      ]
    },
    {
      "cell_type": "markdown",
      "metadata": {
        "id": "Sfau-C3pZD2D",
        "colab_type": "text"
      },
      "source": [
        "## Model Result Summary"
      ]
    },
    {
      "cell_type": "code",
      "metadata": {
        "id": "OGwYqZkRE09Q",
        "colab_type": "code",
        "colab": {
          "base_uri": "https://localhost:8080/",
          "height": 295
        },
        "outputId": "cec4b520-5d7a-455d-a536-15c956c403de"
      },
      "source": [
        "import matplotlib.pyplot as plt\n",
        "plt.plot(history.history['accuracy'])\n",
        "plt.plot(history.history['val_accuracy'])\n",
        "plt.title('Akurasi Model')\n",
        "plt.ylabel('accuracy')\n",
        "plt.xlabel('epoch')\n",
        "plt.legend(['train', 'test'], loc='upper left')\n",
        "plt.show()"
      ],
      "execution_count": null,
      "outputs": [
        {
          "output_type": "display_data",
          "data": {
            "image/png": "[encoded data removed]",
            "text/plain": [
              "<Figure size 432x288 with 1 Axes>"
            ]
          },
          "metadata": {
            "tags": [],
            "needs_background": "light"
          }
        }
      ]
    },
    {
      "cell_type": "code",
      "metadata": {
        "id": "6oLzJ1MeE46H",
        "colab_type": "code",
        "colab": {
          "base_uri": "https://localhost:8080/",
          "height": 295
        },
        "outputId": "bbe5b7ca-8077-4507-8449-76d94a16ff5b"
      },
      "source": [
        "plt.plot(history.history['loss'])\n",
        "plt.plot(history.history['val_loss'])\n",
        "plt.title('Loss Model')\n",
        "plt.ylabel('loss')\n",
        "plt.xlabel('epoch')\n",
        "plt.legend(['train', 'test'], loc='upper left')\n",
        "plt.show()"
      ],
      "execution_count": null,
      "outputs": [
        {
          "output_type": "display_data",
          "data": {
            "image/png": "[encoded data removed]",
            "text/plain": [
              "<Figure size 432x288 with 1 Axes>"
            ]
          },
          "metadata": {
            "tags": [],
            "needs_background": "light"
          }
        }
      ]
    },
    {
      "cell_type": "markdown",
      "metadata": {
        "id": "KbJfS0SCZKMO",
        "colab_type": "text"
      },
      "source": [
        "## Save Model to TFLite\n"
      ]
    },
    {
      "cell_type": "code",
      "metadata": {
        "id": "S9LKqEqAT6Fa",
        "colab_type": "code",
        "colab": {
          "base_uri": "https://localhost:8080/",
          "height": 294
        },
        "outputId": "cc46207b-d676-4521-db97-a0885a9cc457"
      },
      "source": [
        "converter = tf.lite.TFLiteConverter.from_keras_model(model)\n",
        "tflite_model = converter.convert()"
      ],
      "execution_count": null,
      "outputs": [
        {
          "output_type": "stream",
          "text": [
            "WARNING:tensorflow:From /usr/local/lib/python3.6/dist-packages/tensorflow/python/training/tracking/tracking.py:111: Model.state_updates (from tensorflow.python.keras.engine.training) is deprecated and will be removed in a future version.\n",
            "Instructions for updating:\n",
            "This property should not be used in TensorFlow 2.0, as updates are applied automatically.\n"
          ],
          "name": "stdout"
        },
        {
          "output_type": "stream",
          "text": [
            "WARNING:tensorflow:From /usr/local/lib/python3.6/dist-packages/tensorflow/python/training/tracking/tracking.py:111: Model.state_updates (from tensorflow.python.keras.engine.training) is deprecated and will be removed in a future version.\n",
            "Instructions for updating:\n",
            "This property should not be used in TensorFlow 2.0, as updates are applied automatically.\n"
          ],
          "name": "stderr"
        },
        {
          "output_type": "stream",
          "text": [
            "WARNING:tensorflow:From /usr/local/lib/python3.6/dist-packages/tensorflow/python/training/tracking/tracking.py:111: Layer.updates (from tensorflow.python.keras.engine.base_layer) is deprecated and will be removed in a future version.\n",
            "Instructions for updating:\n",
            "This property should not be used in TensorFlow 2.0, as updates are applied automatically.\n"
          ],
          "name": "stdout"
        },
        {
          "output_type": "stream",
          "text": [
            "WARNING:tensorflow:From /usr/local/lib/python3.6/dist-packages/tensorflow/python/training/tracking/tracking.py:111: Layer.updates (from tensorflow.python.keras.engine.base_layer) is deprecated and will be removed in a future version.\n",
            "Instructions for updating:\n",
            "This property should not be used in TensorFlow 2.0, as updates are applied automatically.\n"
          ],
          "name": "stderr"
        },
        {
          "output_type": "stream",
          "text": [
            "INFO:tensorflow:Assets written to: /tmp/tmpn5g0oz5c/assets\n"
          ],
          "name": "stdout"
        },
        {
          "output_type": "stream",
          "text": [
            "INFO:tensorflow:Assets written to: /tmp/tmpn5g0oz5c/assets\n"
          ],
          "name": "stderr"
        }
      ]
    },
    {
      "cell_type": "code",
      "metadata": {
        "id": "coa5yIGTT8Hl",
        "colab_type": "code",
        "colab": {}
      },
      "source": [
        "with tf.io.gfile.GFile('image-model.tflite', 'wb') as f:\n",
        "  f.write(tflite_model)"
      ],
      "execution_count": null,
      "outputs": []
    }
  ]
}